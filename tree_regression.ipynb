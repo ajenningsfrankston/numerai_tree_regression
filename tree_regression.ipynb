{
 "cells": [
  {
   "cell_type": "code",
   "execution_count": 3,
   "metadata": {
    "collapsed": false,
    "jupyter": {
     "outputs_hidden": false
    },
    "pycharm": {
     "name": "#%%\n"
    }
   },
   "outputs": [
    {
     "name": "stdout",
     "output_type": "stream",
     "text": [
      "Requirement already satisfied: numerapi in ./venv/tree_regression/lib/python3.8/site-packages (2.6.0)\n",
      "Requirement already satisfied: tqdm>=4.29.1 in ./venv/tree_regression/lib/python3.8/site-packages (from numerapi) (4.62.0)\n",
      "Requirement already satisfied: click>=7.0 in ./venv/tree_regression/lib/python3.8/site-packages (from numerapi) (8.0.1)\n",
      "Requirement already satisfied: pytz in ./venv/tree_regression/lib/python3.8/site-packages (from numerapi) (2021.1)\n",
      "Requirement already satisfied: requests in ./venv/tree_regression/lib/python3.8/site-packages (from numerapi) (2.26.0)\n",
      "Requirement already satisfied: python-dateutil in ./venv/tree_regression/lib/python3.8/site-packages (from numerapi) (2.8.2)\n",
      "Requirement already satisfied: pandas>=1.1.0 in ./venv/tree_regression/lib/python3.8/site-packages (from numerapi) (1.3.1)\n",
      "Requirement already satisfied: numpy>=1.17.3 in ./venv/tree_regression/lib/python3.8/site-packages (from pandas>=1.1.0->numerapi) (1.21.1)\n",
      "Requirement already satisfied: six>=1.5 in ./venv/tree_regression/lib/python3.8/site-packages (from python-dateutil->numerapi) (1.16.0)\n",
      "Requirement already satisfied: urllib3<1.27,>=1.21.1 in ./venv/tree_regression/lib/python3.8/site-packages (from requests->numerapi) (1.26.6)\n",
      "Requirement already satisfied: charset-normalizer~=2.0.0 in ./venv/tree_regression/lib/python3.8/site-packages (from requests->numerapi) (2.0.4)\n",
      "Requirement already satisfied: idna<4,>=2.5 in ./venv/tree_regression/lib/python3.8/site-packages (from requests->numerapi) (3.2)\n",
      "Requirement already satisfied: certifi>=2017.4.17 in ./venv/tree_regression/lib/python3.8/site-packages (from requests->numerapi) (2021.5.30)\n",
      "\u001b[33mWARNING: You are using pip version 21.1.2; however, version 21.2.4 is available.\n",
      "You should consider upgrading via the '/Users/andrewjennings/PycharmProjects/numerai_tree_regression/venv/tree_regression/bin/python -m pip install --upgrade pip' command.\u001b[0m\n"
     ]
    }
   ],
   "source": [
    "\"\"\"\n",
    "som_regression model\n",
    "\"\"\"\n",
    "\n",
    "!pip install numerapi\n",
    "!pip install susi\n",
    "\n",
    "import os\n",
    "import gc\n",
    "\n",
    "import pandas as pd\n",
    "from numerapi import NumerAPI\n",
    "import zipfile\n",
    "import os\n",
    "\n",
    "import susi\n",
    "import matplotlib.pyplot as plt\n",
    "\n",
    "\n",
    "from sklearn.linear_model import Ridge\n",
    "from sklearn.ensemble import BaggingClassifier\n",
    "\n",
    "TOURNAMENT_NAME = \"kazutsugi\"\n",
    "TARGET_NAME = f\"target\"\n",
    "PREDICTION_NAME = f\"prediction_{TOURNAMENT_NAME}\"\n",
    "\n",
    "data_directory = \"../kazutsugi/datasets/\"\n",
    "\n",
    "BENCHMARK = 0.002\n",
    "BAND = 0.04\n",
    "\n",
    "\n",
    "# Submissions are scored by Spearman correlation\n",
    "def score(df):\n",
    "    return df[[TARGET_NAME, PREDICTION_NAME]].corr(method=\"spearman\")[TARGET_NAME][PREDICTION_NAME]\n",
    "\n",
    "\n",
    "# The payout function\n",
    "def payout(scores):\n",
    "    return ((scores - BENCHMARK)/BAND).clip(lower=-1, upper=1)\n",
    "\n",
    "\n",
    "def download_data():\n",
    "\n",
    "    data_archive = NumerAPI().download_current_dataset(dest_path='../tmp', unzip=False)\n",
    "\n",
    "    with zipfile.ZipFile(data_archive, \"r\") as zip_ref:\n",
    "        zip_ref.extractall(\"../kazutsugi/datasets\")\n",
    "\n"
   ]
  },
  {
   "cell_type": "code",
   "execution_count": null,
   "metadata": {
    "collapsed": false,
    "jupyter": {
     "outputs_hidden": false
    },
    "pycharm": {
     "name": "#%%\n"
    }
   },
   "outputs": [],
   "source": [
    "def get_data():\n",
    "\n",
    "    download_data()\n",
    "\n",
    "    print(\"# Loading data...\")\n",
    "    # The training data is used to train your model how to predict the targets.\n",
    "    training_data = pd.read_csv(data_directory + \"numerai_training_data.csv\").set_index(\"id\")\n",
    "    # The tournament data is the data that Numerai uses to evaluate your model.\n",
    "    tournament_data = pd.read_csv(data_directory + \"numerai_tournament_data.csv\").set_index(\"id\")\n",
    "\n",
    "    feature_names = [ f for f in training_data.columns if f.startswith(\"feature\")]\n",
    "\n",
    "    print(f\"Loaded {len(feature_names)} features\")\n",
    "\n",
    "\n",
    "    print(\"Training model\")\n",
    "\n",
    "\n",
    "\n",
    "    return training_data,feature_names,tournament_data\n"
   ]
  },
  {
   "cell_type": "code",
   "execution_count": 4,
   "metadata": {
    "collapsed": false,
    "jupyter": {
     "outputs_hidden": false
    },
    "pycharm": {
     "name": "#%%\n"
    }
   },
   "outputs": [],
   "source": [
    "def make_model(training_data,feature_names,tournament_data):\n",
    "\n",
    "    X = training_data[feature_names]\n",
    "    Y = training_data[TARGET_NAME]\n",
    "\n",
    "    print(X.head())\n",
    "\n",
    "    som = susi.SOMClustering()\n",
    "    som.fit(X)\n",
    "    bmu_list = som.get_bmus(X)\n",
    "    plt.hist2d([x[0] for x in bmu_list], [x[1] for x in bmu_list])\n",
    "\n",
    "\n",
    "    model = Ridge(alpha=0.9)\n",
    "    model.fit(X, Y)\n",
    "\n",
    "    print(\"Generating predictions\")\n",
    "\n",
    "    training_data[PREDICTION_NAME] = model.predict(training_data[feature_names])\n",
    "\n",
    "    tournament_data[PREDICTION_NAME] = model.predict(tournament_data[feature_names])\n",
    "\n",
    "    # Check the per-era correlations on the training set\n",
    "\n",
    "    train_correlations = training_data.groupby(\"era\").apply(score)\n",
    "    print(\n",
    "        f\"On training the correlation has mean {train_correlations.mean()} and std {train_correlations.std()}\")\n",
    "    print(\n",
    "        f\"On training the average per-era payout is {payout(train_correlations).mean()}\")\n",
    "\n",
    "    # Check the per-era correlations on the validation set\n",
    "\n",
    "    validation_data = tournament_data[tournament_data.data_type == \"validation\"]\n",
    "    validation_correlations = validation_data.groupby(\"era\").apply(score)\n",
    "    print(\n",
    "        f\"On validation the correlation has mean {validation_correlations.mean()} and std {validation_correlations.std()}\")\n",
    "    print(\n",
    "        f\"On validation the average per-era payout is {payout(validation_correlations).mean()}\")\n",
    "\n",
    "    # create destination directory if it does not exist\n",
    "    #\n",
    "\n",
    "    destination_dir = \"../kazutsugi/submissions/\"\n",
    "\n",
    "    if not os.path.exists(destination_dir):\n",
    "        os.makedirs(destination_dir)\n",
    "\n",
    "    submission_file = destination_dir + TOURNAMENT_NAME + \"_submission.csv\"\n",
    "\n",
    "    tournament_data[PREDICTION_NAME].to_csv(submission_file,header=True)\n"
   ]
  },
  {
   "cell_type": "code",
   "execution_count": 5,
   "metadata": {
    "collapsed": false,
    "jupyter": {
     "outputs_hidden": false
    },
    "pycharm": {
     "name": "#%%\n"
    }
   },
   "outputs": [
    {
     "name": "stderr",
     "output_type": "stream",
     "text": [
      "2021-09-13 11:37:33,383 INFO numerapi.utils: target file already exists\n",
      "2021-09-13 11:37:33,384 INFO numerapi.utils: download complete\n"
     ]
    },
    {
     "name": "stdout",
     "output_type": "stream",
     "text": [
      "# Loading data...\n",
      "Loaded 310 features\n",
      "Training model\n",
      "                  feature_intelligence1  feature_intelligence2  \\\n",
      "id                                                               \n",
      "n000315175b67977                   0.00                   0.50   \n",
      "n0014af834a96cdd                   0.00                   0.00   \n",
      "n001c93979ac41d4                   0.25                   0.50   \n",
      "n0034e4143f22a13                   1.00                   0.00   \n",
      "n00679d1a636062f                   0.25                   0.25   \n",
      "\n",
      "                  feature_intelligence3  feature_intelligence4  \\\n",
      "id                                                               \n",
      "n000315175b67977                   0.25                   0.00   \n",
      "n0014af834a96cdd                   0.00                   0.25   \n",
      "n001c93979ac41d4                   0.25                   0.25   \n",
      "n0034e4143f22a13                   0.00                   0.50   \n",
      "n00679d1a636062f                   0.25                   0.25   \n",
      "\n",
      "                  feature_intelligence5  feature_intelligence6  \\\n",
      "id                                                               \n",
      "n000315175b67977                    0.5                   0.25   \n",
      "n0014af834a96cdd                    0.5                   0.00   \n",
      "n001c93979ac41d4                    1.0                   0.75   \n",
      "n0034e4143f22a13                    0.5                   0.25   \n",
      "n00679d1a636062f                    0.0                   0.25   \n",
      "\n",
      "                  feature_intelligence7  feature_intelligence8  \\\n",
      "id                                                               \n",
      "n000315175b67977                   0.25                   0.25   \n",
      "n0014af834a96cdd                   0.00                   0.25   \n",
      "n001c93979ac41d4                   0.75                   0.25   \n",
      "n0034e4143f22a13                   0.25                   0.75   \n",
      "n00679d1a636062f                   0.50                   0.25   \n",
      "\n",
      "                  feature_intelligence9  feature_intelligence10  ...  \\\n",
      "id                                                               ...   \n",
      "n000315175b67977                   0.75                    0.75  ...   \n",
      "n0014af834a96cdd                   0.50                    0.50  ...   \n",
      "n001c93979ac41d4                   0.00                    0.25  ...   \n",
      "n0034e4143f22a13                   0.25                    0.50  ...   \n",
      "n00679d1a636062f                   0.25                    0.50  ...   \n",
      "\n",
      "                  feature_wisdom37  feature_wisdom38  feature_wisdom39  \\\n",
      "id                                                                       \n",
      "n000315175b67977              1.00              1.00              1.00   \n",
      "n0014af834a96cdd              0.75              1.00              1.00   \n",
      "n001c93979ac41d4              0.50              0.25              0.50   \n",
      "n0034e4143f22a13              0.75              1.00              1.00   \n",
      "n00679d1a636062f              0.50              0.75              0.75   \n",
      "\n",
      "                  feature_wisdom40  feature_wisdom41  feature_wisdom42  \\\n",
      "id                                                                       \n",
      "n000315175b67977              0.75              0.50              0.75   \n",
      "n0014af834a96cdd              0.00              0.00              0.75   \n",
      "n001c93979ac41d4              0.00              0.00              0.50   \n",
      "n0034e4143f22a13              0.75              0.75              1.00   \n",
      "n00679d1a636062f              0.25              0.50              0.75   \n",
      "\n",
      "                  feature_wisdom43  feature_wisdom44  feature_wisdom45  \\\n",
      "id                                                                       \n",
      "n000315175b67977              0.50              1.00              0.50   \n",
      "n0014af834a96cdd              0.25              0.00              0.25   \n",
      "n001c93979ac41d4              1.00              0.00              0.25   \n",
      "n0034e4143f22a13              1.00              0.75              1.00   \n",
      "n00679d1a636062f              0.00              0.50              0.25   \n",
      "\n",
      "                  feature_wisdom46  \n",
      "id                                  \n",
      "n000315175b67977              0.75  \n",
      "n0014af834a96cdd              1.00  \n",
      "n001c93979ac41d4              0.75  \n",
      "n0034e4143f22a13              1.00  \n",
      "n00679d1a636062f              0.75  \n",
      "\n",
      "[5 rows x 310 columns]\n"
     ]
    },
    {
     "ename": "AttributeError",
     "evalue": "'str' object has no attribute 'astype'",
     "output_type": "error",
     "traceback": [
      "\u001b[0;31m---------------------------------------------------------------------------\u001b[0m",
      "\u001b[0;31mAttributeError\u001b[0m                            Traceback (most recent call last)",
      "\u001b[0;32m/var/folders/s4/hqpk71s51lq88685j836lbjw0000gn/T/ipykernel_35602/782057150.py\u001b[0m in \u001b[0;36m<module>\u001b[0;34m\u001b[0m\n\u001b[0;32m----> 1\u001b[0;31m \u001b[0mmake_model\u001b[0m\u001b[0;34m(\u001b[0m\u001b[0;34m)\u001b[0m\u001b[0;34m\u001b[0m\u001b[0;34m\u001b[0m\u001b[0m\n\u001b[0m\u001b[1;32m      2\u001b[0m \u001b[0;34m\u001b[0m\u001b[0m\n\u001b[1;32m      3\u001b[0m \u001b[0;34m\u001b[0m\u001b[0m\n\u001b[1;32m      4\u001b[0m \u001b[0;34m\u001b[0m\u001b[0m\n\u001b[1;32m      5\u001b[0m \u001b[0;34m\u001b[0m\u001b[0m\n",
      "\u001b[0;32m/var/folders/s4/hqpk71s51lq88685j836lbjw0000gn/T/ipykernel_35602/657848507.py\u001b[0m in \u001b[0;36mmake_model\u001b[0;34m()\u001b[0m\n\u001b[1;32m     23\u001b[0m     \u001b[0msom\u001b[0m \u001b[0;34m=\u001b[0m \u001b[0msusi\u001b[0m\u001b[0;34m.\u001b[0m\u001b[0mSOMClustering\u001b[0m\u001b[0;34m(\u001b[0m\u001b[0;34m)\u001b[0m\u001b[0;34m\u001b[0m\u001b[0;34m\u001b[0m\u001b[0m\n\u001b[1;32m     24\u001b[0m     \u001b[0msom\u001b[0m\u001b[0;34m.\u001b[0m\u001b[0mfit\u001b[0m\u001b[0;34m(\u001b[0m\u001b[0mX\u001b[0m\u001b[0;34m)\u001b[0m\u001b[0;34m\u001b[0m\u001b[0;34m\u001b[0m\u001b[0m\n\u001b[0;32m---> 25\u001b[0;31m     \u001b[0mbmu_list\u001b[0m \u001b[0;34m=\u001b[0m \u001b[0msom\u001b[0m\u001b[0;34m.\u001b[0m\u001b[0mget_bmus\u001b[0m\u001b[0;34m(\u001b[0m\u001b[0mX\u001b[0m\u001b[0;34m)\u001b[0m\u001b[0;34m\u001b[0m\u001b[0;34m\u001b[0m\u001b[0m\n\u001b[0m\u001b[1;32m     26\u001b[0m     \u001b[0mplt\u001b[0m\u001b[0;34m.\u001b[0m\u001b[0mhist2d\u001b[0m\u001b[0;34m(\u001b[0m\u001b[0;34m[\u001b[0m\u001b[0mx\u001b[0m\u001b[0;34m[\u001b[0m\u001b[0;36m0\u001b[0m\u001b[0;34m]\u001b[0m \u001b[0;32mfor\u001b[0m \u001b[0mx\u001b[0m \u001b[0;32min\u001b[0m \u001b[0mbmu_list\u001b[0m\u001b[0;34m]\u001b[0m\u001b[0;34m,\u001b[0m \u001b[0;34m[\u001b[0m\u001b[0mx\u001b[0m\u001b[0;34m[\u001b[0m\u001b[0;36m1\u001b[0m\u001b[0;34m]\u001b[0m \u001b[0;32mfor\u001b[0m \u001b[0mx\u001b[0m \u001b[0;32min\u001b[0m \u001b[0mbmu_list\u001b[0m\u001b[0;34m]\u001b[0m\u001b[0;34m)\u001b[0m\u001b[0;34m\u001b[0m\u001b[0;34m\u001b[0m\u001b[0m\n\u001b[1;32m     27\u001b[0m \u001b[0;34m\u001b[0m\u001b[0m\n",
      "\u001b[0;32m~/PycharmProjects/numerai_tree_regression/venv/tree_regression/lib/python3.8/site-packages/susi/SOMClustering.py\u001b[0m in \u001b[0;36mget_bmus\u001b[0;34m(self, X, som_array)\u001b[0m\n\u001b[1;32m    411\u001b[0m         \u001b[0;32melse\u001b[0m\u001b[0;34m:\u001b[0m\u001b[0;34m\u001b[0m\u001b[0;34m\u001b[0m\u001b[0m\n\u001b[1;32m    412\u001b[0m             \u001b[0mn_jobs\u001b[0m\u001b[0;34m,\u001b[0m \u001b[0m_\u001b[0m\u001b[0;34m,\u001b[0m \u001b[0m_\u001b[0m \u001b[0;34m=\u001b[0m \u001b[0mself\u001b[0m\u001b[0;34m.\u001b[0m\u001b[0m_partition_bmus\u001b[0m\u001b[0;34m(\u001b[0m\u001b[0mX\u001b[0m\u001b[0;34m)\u001b[0m\u001b[0;34m\u001b[0m\u001b[0;34m\u001b[0m\u001b[0m\n\u001b[0;32m--> 413\u001b[0;31m             bmus = Parallel(n_jobs=n_jobs, verbose=self.verbose)(\n\u001b[0m\u001b[1;32m    414\u001b[0m                 \u001b[0mdelayed\u001b[0m\u001b[0;34m(\u001b[0m\u001b[0mself\u001b[0m\u001b[0;34m.\u001b[0m\u001b[0mget_bmu\u001b[0m\u001b[0;34m)\u001b[0m\u001b[0;34m(\u001b[0m\u001b[0mdp\u001b[0m\u001b[0;34m,\u001b[0m \u001b[0msom_array\u001b[0m\u001b[0;34m)\u001b[0m \u001b[0;32mfor\u001b[0m \u001b[0mdp\u001b[0m \u001b[0;32min\u001b[0m \u001b[0mX\u001b[0m\u001b[0;34m\u001b[0m\u001b[0;34m\u001b[0m\u001b[0m\n\u001b[1;32m    415\u001b[0m             )\n",
      "\u001b[0;32m~/PycharmProjects/numerai_tree_regression/venv/tree_regression/lib/python3.8/site-packages/joblib/parallel.py\u001b[0m in \u001b[0;36m__call__\u001b[0;34m(self, iterable)\u001b[0m\n\u001b[1;32m   1039\u001b[0m             \u001b[0;31m# remaining jobs.\u001b[0m\u001b[0;34m\u001b[0m\u001b[0;34m\u001b[0m\u001b[0;34m\u001b[0m\u001b[0m\n\u001b[1;32m   1040\u001b[0m             \u001b[0mself\u001b[0m\u001b[0;34m.\u001b[0m\u001b[0m_iterating\u001b[0m \u001b[0;34m=\u001b[0m \u001b[0;32mFalse\u001b[0m\u001b[0;34m\u001b[0m\u001b[0;34m\u001b[0m\u001b[0m\n\u001b[0;32m-> 1041\u001b[0;31m             \u001b[0;32mif\u001b[0m \u001b[0mself\u001b[0m\u001b[0;34m.\u001b[0m\u001b[0mdispatch_one_batch\u001b[0m\u001b[0;34m(\u001b[0m\u001b[0miterator\u001b[0m\u001b[0;34m)\u001b[0m\u001b[0;34m:\u001b[0m\u001b[0;34m\u001b[0m\u001b[0;34m\u001b[0m\u001b[0m\n\u001b[0m\u001b[1;32m   1042\u001b[0m                 \u001b[0mself\u001b[0m\u001b[0;34m.\u001b[0m\u001b[0m_iterating\u001b[0m \u001b[0;34m=\u001b[0m \u001b[0mself\u001b[0m\u001b[0;34m.\u001b[0m\u001b[0m_original_iterator\u001b[0m \u001b[0;32mis\u001b[0m \u001b[0;32mnot\u001b[0m \u001b[0;32mNone\u001b[0m\u001b[0;34m\u001b[0m\u001b[0;34m\u001b[0m\u001b[0m\n\u001b[1;32m   1043\u001b[0m \u001b[0;34m\u001b[0m\u001b[0m\n",
      "\u001b[0;32m~/PycharmProjects/numerai_tree_regression/venv/tree_regression/lib/python3.8/site-packages/joblib/parallel.py\u001b[0m in \u001b[0;36mdispatch_one_batch\u001b[0;34m(self, iterator)\u001b[0m\n\u001b[1;32m    857\u001b[0m                 \u001b[0;32mreturn\u001b[0m \u001b[0;32mFalse\u001b[0m\u001b[0;34m\u001b[0m\u001b[0;34m\u001b[0m\u001b[0m\n\u001b[1;32m    858\u001b[0m             \u001b[0;32melse\u001b[0m\u001b[0;34m:\u001b[0m\u001b[0;34m\u001b[0m\u001b[0;34m\u001b[0m\u001b[0m\n\u001b[0;32m--> 859\u001b[0;31m                 \u001b[0mself\u001b[0m\u001b[0;34m.\u001b[0m\u001b[0m_dispatch\u001b[0m\u001b[0;34m(\u001b[0m\u001b[0mtasks\u001b[0m\u001b[0;34m)\u001b[0m\u001b[0;34m\u001b[0m\u001b[0;34m\u001b[0m\u001b[0m\n\u001b[0m\u001b[1;32m    860\u001b[0m                 \u001b[0;32mreturn\u001b[0m \u001b[0;32mTrue\u001b[0m\u001b[0;34m\u001b[0m\u001b[0;34m\u001b[0m\u001b[0m\n\u001b[1;32m    861\u001b[0m \u001b[0;34m\u001b[0m\u001b[0m\n",
      "\u001b[0;32m~/PycharmProjects/numerai_tree_regression/venv/tree_regression/lib/python3.8/site-packages/joblib/parallel.py\u001b[0m in \u001b[0;36m_dispatch\u001b[0;34m(self, batch)\u001b[0m\n\u001b[1;32m    775\u001b[0m         \u001b[0;32mwith\u001b[0m \u001b[0mself\u001b[0m\u001b[0;34m.\u001b[0m\u001b[0m_lock\u001b[0m\u001b[0;34m:\u001b[0m\u001b[0;34m\u001b[0m\u001b[0;34m\u001b[0m\u001b[0m\n\u001b[1;32m    776\u001b[0m             \u001b[0mjob_idx\u001b[0m \u001b[0;34m=\u001b[0m \u001b[0mlen\u001b[0m\u001b[0;34m(\u001b[0m\u001b[0mself\u001b[0m\u001b[0;34m.\u001b[0m\u001b[0m_jobs\u001b[0m\u001b[0;34m)\u001b[0m\u001b[0;34m\u001b[0m\u001b[0;34m\u001b[0m\u001b[0m\n\u001b[0;32m--> 777\u001b[0;31m             \u001b[0mjob\u001b[0m \u001b[0;34m=\u001b[0m \u001b[0mself\u001b[0m\u001b[0;34m.\u001b[0m\u001b[0m_backend\u001b[0m\u001b[0;34m.\u001b[0m\u001b[0mapply_async\u001b[0m\u001b[0;34m(\u001b[0m\u001b[0mbatch\u001b[0m\u001b[0;34m,\u001b[0m \u001b[0mcallback\u001b[0m\u001b[0;34m=\u001b[0m\u001b[0mcb\u001b[0m\u001b[0;34m)\u001b[0m\u001b[0;34m\u001b[0m\u001b[0;34m\u001b[0m\u001b[0m\n\u001b[0m\u001b[1;32m    778\u001b[0m             \u001b[0;31m# A job can complete so quickly than its callback is\u001b[0m\u001b[0;34m\u001b[0m\u001b[0;34m\u001b[0m\u001b[0;34m\u001b[0m\u001b[0m\n\u001b[1;32m    779\u001b[0m             \u001b[0;31m# called before we get here, causing self._jobs to\u001b[0m\u001b[0;34m\u001b[0m\u001b[0;34m\u001b[0m\u001b[0;34m\u001b[0m\u001b[0m\n",
      "\u001b[0;32m~/PycharmProjects/numerai_tree_regression/venv/tree_regression/lib/python3.8/site-packages/joblib/_parallel_backends.py\u001b[0m in \u001b[0;36mapply_async\u001b[0;34m(self, func, callback)\u001b[0m\n\u001b[1;32m    206\u001b[0m     \u001b[0;32mdef\u001b[0m \u001b[0mapply_async\u001b[0m\u001b[0;34m(\u001b[0m\u001b[0mself\u001b[0m\u001b[0;34m,\u001b[0m \u001b[0mfunc\u001b[0m\u001b[0;34m,\u001b[0m \u001b[0mcallback\u001b[0m\u001b[0;34m=\u001b[0m\u001b[0;32mNone\u001b[0m\u001b[0;34m)\u001b[0m\u001b[0;34m:\u001b[0m\u001b[0;34m\u001b[0m\u001b[0;34m\u001b[0m\u001b[0m\n\u001b[1;32m    207\u001b[0m         \u001b[0;34m\"\"\"Schedule a func to be run\"\"\"\u001b[0m\u001b[0;34m\u001b[0m\u001b[0;34m\u001b[0m\u001b[0m\n\u001b[0;32m--> 208\u001b[0;31m         \u001b[0mresult\u001b[0m \u001b[0;34m=\u001b[0m \u001b[0mImmediateResult\u001b[0m\u001b[0;34m(\u001b[0m\u001b[0mfunc\u001b[0m\u001b[0;34m)\u001b[0m\u001b[0;34m\u001b[0m\u001b[0;34m\u001b[0m\u001b[0m\n\u001b[0m\u001b[1;32m    209\u001b[0m         \u001b[0;32mif\u001b[0m \u001b[0mcallback\u001b[0m\u001b[0;34m:\u001b[0m\u001b[0;34m\u001b[0m\u001b[0;34m\u001b[0m\u001b[0m\n\u001b[1;32m    210\u001b[0m             \u001b[0mcallback\u001b[0m\u001b[0;34m(\u001b[0m\u001b[0mresult\u001b[0m\u001b[0;34m)\u001b[0m\u001b[0;34m\u001b[0m\u001b[0;34m\u001b[0m\u001b[0m\n",
      "\u001b[0;32m~/PycharmProjects/numerai_tree_regression/venv/tree_regression/lib/python3.8/site-packages/joblib/_parallel_backends.py\u001b[0m in \u001b[0;36m__init__\u001b[0;34m(self, batch)\u001b[0m\n\u001b[1;32m    570\u001b[0m         \u001b[0;31m# Don't delay the application, to avoid keeping the input\u001b[0m\u001b[0;34m\u001b[0m\u001b[0;34m\u001b[0m\u001b[0;34m\u001b[0m\u001b[0m\n\u001b[1;32m    571\u001b[0m         \u001b[0;31m# arguments in memory\u001b[0m\u001b[0;34m\u001b[0m\u001b[0;34m\u001b[0m\u001b[0;34m\u001b[0m\u001b[0m\n\u001b[0;32m--> 572\u001b[0;31m         \u001b[0mself\u001b[0m\u001b[0;34m.\u001b[0m\u001b[0mresults\u001b[0m \u001b[0;34m=\u001b[0m \u001b[0mbatch\u001b[0m\u001b[0;34m(\u001b[0m\u001b[0;34m)\u001b[0m\u001b[0;34m\u001b[0m\u001b[0;34m\u001b[0m\u001b[0m\n\u001b[0m\u001b[1;32m    573\u001b[0m \u001b[0;34m\u001b[0m\u001b[0m\n\u001b[1;32m    574\u001b[0m     \u001b[0;32mdef\u001b[0m \u001b[0mget\u001b[0m\u001b[0;34m(\u001b[0m\u001b[0mself\u001b[0m\u001b[0;34m)\u001b[0m\u001b[0;34m:\u001b[0m\u001b[0;34m\u001b[0m\u001b[0;34m\u001b[0m\u001b[0m\n",
      "\u001b[0;32m~/PycharmProjects/numerai_tree_regression/venv/tree_regression/lib/python3.8/site-packages/joblib/parallel.py\u001b[0m in \u001b[0;36m__call__\u001b[0;34m(self)\u001b[0m\n\u001b[1;32m    260\u001b[0m         \u001b[0;31m# change the default number of processes to -1\u001b[0m\u001b[0;34m\u001b[0m\u001b[0;34m\u001b[0m\u001b[0;34m\u001b[0m\u001b[0m\n\u001b[1;32m    261\u001b[0m         \u001b[0;32mwith\u001b[0m \u001b[0mparallel_backend\u001b[0m\u001b[0;34m(\u001b[0m\u001b[0mself\u001b[0m\u001b[0;34m.\u001b[0m\u001b[0m_backend\u001b[0m\u001b[0;34m,\u001b[0m \u001b[0mn_jobs\u001b[0m\u001b[0;34m=\u001b[0m\u001b[0mself\u001b[0m\u001b[0;34m.\u001b[0m\u001b[0m_n_jobs\u001b[0m\u001b[0;34m)\u001b[0m\u001b[0;34m:\u001b[0m\u001b[0;34m\u001b[0m\u001b[0;34m\u001b[0m\u001b[0m\n\u001b[0;32m--> 262\u001b[0;31m             return [func(*args, **kwargs)\n\u001b[0m\u001b[1;32m    263\u001b[0m                     for func, args, kwargs in self.items]\n\u001b[1;32m    264\u001b[0m \u001b[0;34m\u001b[0m\u001b[0m\n",
      "\u001b[0;32m~/PycharmProjects/numerai_tree_regression/venv/tree_regression/lib/python3.8/site-packages/joblib/parallel.py\u001b[0m in \u001b[0;36m<listcomp>\u001b[0;34m(.0)\u001b[0m\n\u001b[1;32m    260\u001b[0m         \u001b[0;31m# change the default number of processes to -1\u001b[0m\u001b[0;34m\u001b[0m\u001b[0;34m\u001b[0m\u001b[0;34m\u001b[0m\u001b[0m\n\u001b[1;32m    261\u001b[0m         \u001b[0;32mwith\u001b[0m \u001b[0mparallel_backend\u001b[0m\u001b[0;34m(\u001b[0m\u001b[0mself\u001b[0m\u001b[0;34m.\u001b[0m\u001b[0m_backend\u001b[0m\u001b[0;34m,\u001b[0m \u001b[0mn_jobs\u001b[0m\u001b[0;34m=\u001b[0m\u001b[0mself\u001b[0m\u001b[0;34m.\u001b[0m\u001b[0m_n_jobs\u001b[0m\u001b[0;34m)\u001b[0m\u001b[0;34m:\u001b[0m\u001b[0;34m\u001b[0m\u001b[0;34m\u001b[0m\u001b[0m\n\u001b[0;32m--> 262\u001b[0;31m             return [func(*args, **kwargs)\n\u001b[0m\u001b[1;32m    263\u001b[0m                     for func, args, kwargs in self.items]\n\u001b[1;32m    264\u001b[0m \u001b[0;34m\u001b[0m\u001b[0m\n",
      "\u001b[0;32m~/PycharmProjects/numerai_tree_regression/venv/tree_regression/lib/python3.8/site-packages/susi/SOMClustering.py\u001b[0m in \u001b[0;36mget_bmu\u001b[0;34m(self, datapoint, som_array)\u001b[0m\n\u001b[1;32m    367\u001b[0m         \"\"\"\n\u001b[1;32m    368\u001b[0m         a = self._get_node_distance_matrix(\n\u001b[0;32m--> 369\u001b[0;31m             \u001b[0mdatapoint\u001b[0m\u001b[0;34m.\u001b[0m\u001b[0mastype\u001b[0m\u001b[0;34m(\u001b[0m\u001b[0mnp\u001b[0m\u001b[0;34m.\u001b[0m\u001b[0mfloat64\u001b[0m\u001b[0;34m)\u001b[0m\u001b[0;34m,\u001b[0m \u001b[0msom_array\u001b[0m\u001b[0;34m\u001b[0m\u001b[0;34m\u001b[0m\u001b[0m\n\u001b[0m\u001b[1;32m    370\u001b[0m         )\n\u001b[1;32m    371\u001b[0m \u001b[0;34m\u001b[0m\u001b[0m\n",
      "\u001b[0;31mAttributeError\u001b[0m: 'str' object has no attribute 'astype'"
     ]
    }
   ],
   "source": [
    "training_data,feature_names,tournament_data = get_data()\n"
   ]
  },
  {
   "cell_type": "code",
   "execution_count": null,
   "metadata": {
    "collapsed": false,
    "jupyter": {
     "outputs_hidden": false
    },
    "pycharm": {
     "name": "#%%\n"
    }
   },
   "outputs": [],
   "source": [
    "make_model(training_data,feature_names,tournament_data)\n"
   ]
  },
  {
   "cell_type": "markdown",
   "metadata": {
    "id": "8rpvmvpjKaFE"
   },
   "source": []
  },
  {
   "cell_type": "markdown",
   "metadata": {
    "id": "fzzJlF5QKdnW"
   },
   "source": []
  },
  {
   "cell_type": "code",
   "execution_count": null,
   "metadata": {
    "colab": {
     "base_uri": "https://localhost:8080/",
     "height": 69
    },
    "id": "UMqwIaqUZU39",
    "outputId": "9ab570f3-1740-44b8-bf3a-187574588076"
   },
   "outputs": [],
   "source": [
    "from numerapi import NumerAPI\n",
    "\n",
    "\n",
    "n_id = \"OML65REYFDPC5O7N22XCRP44BG2M74XH\"\n",
    "key = \"YSTL455VERL7WZ4D7OQ6XEYEQN2MRCCICBMILNFP3DUZC4MSAS2WSH2MV7ED6WB3\"\n",
    "\n",
    "api = NumerAPI(public_id=n_id,secret_key=key)\n",
    "\n",
    "base_path = \"../kazutsugi/submissions/\"\n",
    "\n",
    "path = base_path + 'kazutsugi' + \"_submission.csv\"\n",
    "#print('uploading')\n",
    "#api.upload_predictions(path)"
   ]
  }
 ],
 "metadata": {
  "colab": {
   "collapsed_sections": [],
   "machine_shape": "hm",
   "name": "kazutsugi.ipynb",
   "provenance": []
  },
  "kernelspec": {
   "display_name": "saturn (Python 3)",
   "language": "python",
   "name": "python3"
  },
  "language_info": {
   "codemirror_mode": {
    "name": "ipython",
    "version": 3
   },
   "file_extension": ".py",
   "mimetype": "text/x-python",
   "name": "python",
   "nbconvert_exporter": "python",
   "pygments_lexer": "ipython3",
   "version": "3.8.10"
  }
 },
 "nbformat": 4,
 "nbformat_minor": 4
}
