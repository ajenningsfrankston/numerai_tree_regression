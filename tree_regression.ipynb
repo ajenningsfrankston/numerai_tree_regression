{
 "cells": [
  {
   "cell_type": "code",
   "execution_count": 1,
   "metadata": {
    "colab": {
     "base_uri": "https://localhost:8080/"
    },
    "id": "ovIL8N5eUTPN",
    "outputId": "ff6a366d-cdbc-4cce-8fd9-219a19c4907f"
   },
   "outputs": [
    {
     "name": "stdout",
     "output_type": "stream",
     "text": [
      "Requirement already satisfied: numerapi in ./venv/tree_regression/lib/python3.8/site-packages (2.6.0)\r\n",
      "Requirement already satisfied: requests in ./venv/tree_regression/lib/python3.8/site-packages (from numerapi) (2.26.0)\r\n",
      "Requirement already satisfied: click>=7.0 in ./venv/tree_regression/lib/python3.8/site-packages (from numerapi) (8.0.1)\r\n",
      "Requirement already satisfied: pandas>=1.1.0 in ./venv/tree_regression/lib/python3.8/site-packages (from numerapi) (1.3.1)\r\n",
      "Requirement already satisfied: pytz in ./venv/tree_regression/lib/python3.8/site-packages (from numerapi) (2021.1)\r\n",
      "Requirement already satisfied: python-dateutil in ./venv/tree_regression/lib/python3.8/site-packages (from numerapi) (2.8.2)\r\n",
      "Requirement already satisfied: tqdm>=4.29.1 in ./venv/tree_regression/lib/python3.8/site-packages (from numerapi) (4.62.0)\r\n",
      "Requirement already satisfied: numpy>=1.17.3 in ./venv/tree_regression/lib/python3.8/site-packages (from pandas>=1.1.0->numerapi) (1.21.1)\r\n",
      "Requirement already satisfied: six>=1.5 in ./venv/tree_regression/lib/python3.8/site-packages (from python-dateutil->numerapi) (1.16.0)\r\n",
      "Requirement already satisfied: urllib3<1.27,>=1.21.1 in ./venv/tree_regression/lib/python3.8/site-packages (from requests->numerapi) (1.26.6)\r\n",
      "Requirement already satisfied: idna<4,>=2.5 in ./venv/tree_regression/lib/python3.8/site-packages (from requests->numerapi) (3.2)\r\n",
      "Requirement already satisfied: charset-normalizer~=2.0.0 in ./venv/tree_regression/lib/python3.8/site-packages (from requests->numerapi) (2.0.4)\r\n",
      "Requirement already satisfied: certifi>=2017.4.17 in ./venv/tree_regression/lib/python3.8/site-packages (from requests->numerapi) (2021.5.30)\r\n",
      "\u001B[33mWARNING: You are using pip version 21.1.2; however, version 21.2.3 is available.\r\n",
      "You should consider upgrading via the '/Users/andrewjennings/PycharmProjects/numerai_tree_regression/venv/tree_regression/bin/python -m pip install --upgrade pip' command.\u001B[0m\r\n"
     ]
    },
    {
     "name": "stderr",
     "output_type": "stream",
     "text": [
      "2021-08-12 11:06:57,115 INFO numerapi.utils: target file already exists\n",
      "2021-08-12 11:06:57,116 INFO numerapi.utils: download complete\n"
     ]
    },
    {
     "name": "stdout",
     "output_type": "stream",
     "text": [
      "# Loading data...\n",
      "Loaded 310 features\n",
      "Training model\n",
      "Generating predictions\n",
      "On training the correlation has mean 0.05283313062781918 and std 0.031211894916486443\n",
      "On training the average per-era payout is 0.8124714743677389\n",
      "On validation the correlation has mean 0.01624766200314159 and std 0.031024759057218236\n",
      "On validation the average per-era payout is 0.32542317832425044\n"
     ]
    }
   ],
   "source": [
    "\n",
    "\"\"\"\n",
    "kazutsugi model\n",
    "\"\"\"\n",
    "\n",
    "!pip install numerapi\n",
    "\n",
    "import os\n",
    "import gc \n",
    "\n",
    "import pandas as pd\n",
    "from numerapi import NumerAPI\n",
    "import zipfile\n",
    "import os\n",
    "\n",
    "\n",
    "from sklearn.linear_model import Ridge\n",
    "from sklearn.ensemble import BaggingClassifier\n",
    "\n",
    "TOURNAMENT_NAME = \"kazutsugi\"\n",
    "TARGET_NAME = f\"target\"\n",
    "PREDICTION_NAME = f\"prediction_{TOURNAMENT_NAME}\"\n",
    "\n",
    "data_directory = \"../kazutsugi/datasets/\"\n",
    "\n",
    "BENCHMARK = 0.002\n",
    "BAND = 0.04\n",
    "\n",
    "\n",
    "# Submissions are scored by Spearman correlation\n",
    "def score(df):\n",
    "    return df[[TARGET_NAME, PREDICTION_NAME]].corr(method=\"spearman\")[TARGET_NAME][PREDICTION_NAME]\n",
    "\n",
    "\n",
    "# The payout function\n",
    "def payout(scores):\n",
    "    return ((scores - BENCHMARK)/BAND).clip(lower=-1, upper=1)\n",
    "\n",
    "\n",
    "def download_data():\n",
    "\n",
    "    data_archive = NumerAPI().download_current_dataset(dest_path='../tmp', unzip=False)\n",
    "\n",
    "    with zipfile.ZipFile(data_archive, \"r\") as zip_ref:\n",
    "        zip_ref.extractall(\"../kazutsugi/datasets\")\n",
    "\n",
    "\n",
    "def make_model():\n",
    "\n",
    "    download_data()\n",
    "\n",
    "    print(\"# Loading data...\")\n",
    "    # The training data is used to train your model how to predict the targets.\n",
    "    training_data = pd.read_csv(data_directory + \"numerai_training_data.csv\").set_index(\"id\")\n",
    "    # The tournament data is the data that Numerai uses to evaluate your model.\n",
    "    tournament_data = pd.read_csv(data_directory + \"numerai_tournament_data.csv\").set_index(\"id\")\n",
    "\n",
    "    feature_names = [ f for f in training_data.columns if f.startswith(\"feature\")]\n",
    "\n",
    "    print(f\"Loaded {len(feature_names)} features\")\n",
    "\n",
    "    print(\"Training model\")\n",
    "\n",
    "    X = training_data[feature_names]\n",
    "    Y = training_data[TARGET_NAME]\n",
    "\n",
    "    model = Ridge(alpha=0.9)\n",
    "    model.fit(X, Y)\n",
    "\n",
    "    print(\"Generating predictions\")\n",
    "\n",
    "    training_data[PREDICTION_NAME] = model.predict(training_data[feature_names])\n",
    "\n",
    "    tournament_data[PREDICTION_NAME] = model.predict(tournament_data[feature_names])\n",
    "\n",
    "    # Check the per-era correlations on the training set\n",
    "\n",
    "    train_correlations = training_data.groupby(\"era\").apply(score)\n",
    "    print(\n",
    "        f\"On training the correlation has mean {train_correlations.mean()} and std {train_correlations.std()}\")\n",
    "    print(\n",
    "        f\"On training the average per-era payout is {payout(train_correlations).mean()}\")\n",
    "\n",
    "    # Check the per-era correlations on the validation set\n",
    "\n",
    "    validation_data = tournament_data[tournament_data.data_type == \"validation\"]\n",
    "    validation_correlations = validation_data.groupby(\"era\").apply(score)\n",
    "    print(\n",
    "        f\"On validation the correlation has mean {validation_correlations.mean()} and std {validation_correlations.std()}\")\n",
    "    print(\n",
    "        f\"On validation the average per-era payout is {payout(validation_correlations).mean()}\")\n",
    "    \n",
    "    # create destination directory if it does not exist\n",
    "    #\n",
    "\n",
    "    destination_dir = \"../kazutsugi/submissions/\"\n",
    "    \n",
    "    if not os.path.exists(destination_dir):\n",
    "        os.makedirs(destination_dir)\n",
    "\n",
    "    submission_file = destination_dir + TOURNAMENT_NAME + \"_submission.csv\"\n",
    "\n",
    "    tournament_data[PREDICTION_NAME].to_csv(submission_file,header=True)\n",
    "    \n",
    "make_model()\n",
    "\n",
    "\n",
    "\n",
    "\n",
    "\n"
   ]
  },
  {
   "cell_type": "markdown",
   "metadata": {
    "id": "8rpvmvpjKaFE"
   },
   "source": []
  },
  {
   "cell_type": "markdown",
   "metadata": {
    "id": "fzzJlF5QKdnW"
   },
   "source": []
  },
  {
   "cell_type": "code",
   "execution_count": 3,
   "metadata": {
    "colab": {
     "base_uri": "https://localhost:8080/",
     "height": 69
    },
    "id": "UMqwIaqUZU39",
    "outputId": "9ab570f3-1740-44b8-bf3a-187574588076"
   },
   "outputs": [],
   "source": [
    "from numerapi import NumerAPI\n",
    "\n",
    "\n",
    "id = \"OML65REYFDPC5O7N22XCRP44BG2M74XH\"\n",
    "key = \"YSTL455VERL7WZ4D7OQ6XEYEQN2MRCCICBMILNFP3DUZC4MSAS2WSH2MV7ED6WB3\"\n",
    "\n",
    "api = NumerAPI(public_id=id,secret_key=key)\n",
    "\n",
    "base_path = \"../kazutsugi/submissions/\"\n",
    "\n",
    "path = base_path + 'kazutsugi' + \"_submission.csv\"\n",
    "#print('uploading')\n",
    "#api.upload_predictions(path)"
   ]
  }
 ],
 "metadata": {
  "colab": {
   "collapsed_sections": [],
   "machine_shape": "hm",
   "name": "kazutsugi.ipynb",
   "provenance": []
  },
  "kernelspec": {
   "display_name": "Python 3 (ipykernel)",
   "language": "python",
   "name": "python3"
  },
  "language_info": {
   "codemirror_mode": {
    "name": "ipython",
    "version": 3
   },
   "file_extension": ".py",
   "mimetype": "text/x-python",
   "name": "python",
   "nbconvert_exporter": "python",
   "pygments_lexer": "ipython3",
   "version": "3.8.2"
  }
 },
 "nbformat": 4,
 "nbformat_minor": 1
}